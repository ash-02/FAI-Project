{
 "cells": [
  {
   "cell_type": "markdown",
   "id": "f5fca2ef-342f-4f5f-8b6b-4755cb0b0e09",
   "metadata": {},
   "source": [
    "# 1. Downloading code and initial EDA"
   ]
  },
  {
   "cell_type": "code",
   "execution_count": 48,
   "id": "66250f3d-6f2b-44ed-bbef-98468943dab6",
   "metadata": {},
   "outputs": [],
   "source": [
    "# From CNN Daily Mail on Kaggle (composed of news articles with their summaries)\n",
    "# https://www.kaggle.com/datasets/gowrishankarp/newspaper-text-summarization-cnn-dailymail?resource=download"
   ]
  },
  {
   "cell_type": "code",
   "execution_count": 49,
   "id": "e5a5790c-e79e-4c43-85ac-0032e0c64a41",
   "metadata": {},
   "outputs": [],
   "source": [
    "import pandas as pd\n",
    "import re\n",
    "import nltk\n",
    "from nltk.corpus import stopwords\n",
    "from nltk.tokenize import word_tokenize\n",
    "import numpy as np\n",
    "import random\n",
    "import torch\n",
    "from tqdm import tqdm\n",
    "import matplotlib.pyplot as plt\n",
    "\n",
    "# Make runtimes go vroom vroom\n",
    "from concurrent.futures import ProcessPoolExecutor"
   ]
  },
  {
   "cell_type": "code",
   "execution_count": 50,
   "id": "99452c68-891d-495c-8c7e-0c4355754988",
   "metadata": {},
   "outputs": [],
   "source": [
    "# For reproducbility\n",
    "seed = 42\n",
    "torch.manual_seed(seed)\n",
    "random.seed(seed)\n",
    "np.random.seed(seed)"
   ]
  },
  {
   "cell_type": "code",
   "execution_count": 51,
   "id": "1646cbda-0aa7-4a77-a098-ffd40d6c4904",
   "metadata": {},
   "outputs": [],
   "source": [
    "data_filepath = 'data/cnn_dailymail/'\n",
    "\n",
    "# Observations: Why is train-test-split like 280k-14k-13k ??\n",
    "train_df = pd.read_csv(data_filepath + 'train.csv').drop(columns=['id'])\n",
    "validation_df = pd.read_csv(data_filepath + 'validation.csv').drop(columns=['id'])\n",
    "test_df = pd.read_csv(data_filepath + 'test.csv').drop(columns=['id'])\n",
    "\n",
    "train_df.rename(columns={'article': 'transcript', 'highlights': 'summary'}, inplace=True)\n",
    "validation_df.rename(columns={'article': 'transcript', 'highlights': 'summary'}, inplace=True)\n",
    "test_df.rename(columns={'article': 'transcript', 'highlights': 'summary'}, inplace=True)"
   ]
  },
  {
   "cell_type": "code",
   "execution_count": 52,
   "id": "6b3c59a5-4fa7-4a9f-8ee7-1a8e7cdef5ec",
   "metadata": {},
   "outputs": [],
   "source": [
    "# Use 60k samples instead for train_df, scaling size of val and test sets as well\n",
    "train_df = train_df.sample(n=60000, random_state=42).reset_index(drop=True)\n",
    "validation_df = validation_df.sample(n=round(len(validation_df) / (280 / 60)), random_state=42).reset_index(drop=True)\n",
    "test_df = test_df.sample(n=round(len(test_df) / (280 / 60)), random_state=42).reset_index(drop=True)"
   ]
  },
  {
   "cell_type": "code",
   "execution_count": 53,
   "id": "800820c2-5ecb-4fed-9613-248f5fd22899",
   "metadata": {},
   "outputs": [],
   "source": [
    "contractions_dict = {\n",
    "    \"ain't\": \"are not\",\n",
    "    \"aren't\": \"are not\",\n",
    "    \"can't\": \"cannot\",\n",
    "    \"couldn't\": \"could not\",\n",
    "    \"didn't\": \"did not\",\n",
    "    \"doesn't\": \"does not\",\n",
    "    \"don't\": \"do not\",\n",
    "    \"hadn't\": \"had not\",\n",
    "    \"hasn't\": \"has not\",\n",
    "    \"haven't\": \"have not\",\n",
    "    \"he'd\": \"he would\",\n",
    "    \"he'll\": \"he will\",\n",
    "    \"he's\": \"he is\",\n",
    "    \"I'd\": \"I would\",\n",
    "    \"I'll\": \"I will\",\n",
    "    \"I'm\": \"I am\",\n",
    "    \"I've\": \"I have\",\n",
    "    \"isn't\": \"is not\",\n",
    "    \"it'd\": \"it would\",\n",
    "    \"it'll\": \"it will\",\n",
    "    \"it's\": \"it is\",\n",
    "    \"let's\": \"let us\",\n",
    "    \"mightn't\": \"might not\",\n",
    "    \"mustn't\": \"must not\",\n",
    "    \"shan't\": \"shall not\",\n",
    "    \"she'd\": \"she would\",\n",
    "    \"she'll\": \"she will\",\n",
    "    \"she's\": \"she is\",\n",
    "    \"shouldn't\": \"should not\",\n",
    "    \"that's\": \"that is\",\n",
    "    \"there's\": \"there is\",\n",
    "    \"they'd\": \"they would\",\n",
    "    \"they'll\": \"they will\",\n",
    "    \"they're\": \"they are\",\n",
    "    \"they've\": \"they have\",\n",
    "    \"wasn't\": \"was not\",\n",
    "    \"we'd\": \"we would\",\n",
    "    \"we'll\": \"we will\",\n",
    "    \"we're\": \"we are\",\n",
    "    \"we've\": \"we have\",\n",
    "    \"weren't\": \"were not\",\n",
    "    \"what's\": \"what is\",\n",
    "    \"won't\": \"will not\",\n",
    "    \"wouldn't\": \"would not\",\n",
    "    \"you'd\": \"you would\",\n",
    "    \"you'll\": \"you will\",\n",
    "    \"you're\": \"you are\",\n",
    "    \"you've\": \"you have\"\n",
    "}"
   ]
  },
  {
   "cell_type": "code",
   "execution_count": 54,
   "id": "2817e5ec-3018-4da1-97ef-2eb99b2a9b52",
   "metadata": {},
   "outputs": [
    {
     "name": "stdout",
     "output_type": "stream",
     "text": [
      "<class 'pandas.core.frame.DataFrame'>\n",
      "RangeIndex: 60000 entries, 0 to 59999\n",
      "Data columns (total 2 columns):\n",
      " #   Column      Non-Null Count  Dtype \n",
      "---  ------      --------------  ----- \n",
      " 0   transcript  60000 non-null  object\n",
      " 1   summary     60000 non-null  object\n",
      "dtypes: object(2)\n",
      "memory usage: 937.6+ KB\n"
     ]
    }
   ],
   "source": [
    "train_df.info()"
   ]
  },
  {
   "cell_type": "code",
   "execution_count": 55,
   "id": "9494a18e-1dfc-4603-a3a8-d4593a957ce3",
   "metadata": {},
   "outputs": [],
   "source": [
    "# Commenting out for now because plan to use attention in LSTM\n",
    "# Stopwords\n",
    "# stop_words = set(stopwords.words('english'))\n",
    "\n",
    "def clean_text(value):\n",
    "    if isinstance(value, str):\n",
    "        # Remove ('s)\n",
    "        value = re.sub(r\"'s\", '', value)\n",
    "        # Contractions expansion\n",
    "        for contraction, expansion in contractions_dict.items():\n",
    "            value = re.sub(r'\\b' + re.escape(contraction) + r'\\b', expansion, value, flags=re.IGNORECASE)\n",
    "        # Remove all punctuation and special characters\n",
    "        value = re.sub(r'[^\\w\\s]', '', value)\n",
    "        # Tokenize, remove short words\n",
    "        tokens = [word for word in word_tokenize(value.lower()) if len(word) > 2]\n",
    "        return ' '.join(tokens)\n",
    "    return value\n",
    "\n",
    "# Function to process a chunk of data\n",
    "def process_column(column):\n",
    "    return column.apply(clean_text)\n",
    "\n",
    "# Main cleaning function\n",
    "def clean_data(data):\n",
    "    num_workers = 16 \n",
    "    \n",
    "    # Parallelize 'transcript' cleaning\n",
    "    with ProcessPoolExecutor(max_workers=num_workers) as executor:\n",
    "        transcript_chunks = list(tqdm(\n",
    "            executor.map(process_column, np.array_split(data['transcript'], num_workers)),\n",
    "            total=num_workers,\n",
    "            desc=\"Cleaning 'transcript'\"\n",
    "        ))\n",
    "    data['transcript_cleaned'] = pd.concat(transcript_chunks, ignore_index=True)\n",
    "\n",
    "    # Parallelize 'summary' cleaning\n",
    "    with ProcessPoolExecutor(max_workers=num_workers) as executor:\n",
    "        summary_chunks = list(tqdm(\n",
    "            executor.map(process_column, np.array_split(data['summary'], num_workers)),\n",
    "            total=num_workers,\n",
    "            desc=\"Cleaning 'summary'\"\n",
    "        ))\n",
    "    data['summary_cleaned'] = pd.concat(summary_chunks, ignore_index=True)\n",
    "\n",
    "    # Drop rows where cleaned columns are null or empty\n",
    "    data = data.dropna(subset=['summary_cleaned', 'transcript_cleaned'])\n",
    "    data = data[\n",
    "        ~data['summary_cleaned'].str.strip().eq('') &\n",
    "        ~data['transcript_cleaned'].str.strip().eq('')\n",
    "    ]\n",
    "\n",
    "    # Retain only cleaned columns\n",
    "    data = data[['transcript_cleaned', 'summary_cleaned']].rename(\n",
    "        columns={'transcript_cleaned': 'transcript', 'summary_cleaned': 'summary'}\n",
    "    )\n",
    "    return data"
   ]
  },
  {
   "cell_type": "code",
   "execution_count": 56,
   "id": "2845132b-4ddd-4593-9098-18a2ef1073fa",
   "metadata": {},
   "outputs": [
    {
     "name": "stderr",
     "output_type": "stream",
     "text": [
      "/home/bubbles/miniconda3/envs/lstm/lib/python3.12/site-packages/numpy/core/fromnumeric.py:59: FutureWarning: 'Series.swapaxes' is deprecated and will be removed in a future version. Please use 'Series.transpose' instead.\n",
      "  return bound(*args, **kwds)\n",
      "Cleaning 'transcript': 100%|█████████████████████████████████████████████████████████████████████████████| 16/16 [00:13<00:00,  1.15it/s]\n",
      "/home/bubbles/miniconda3/envs/lstm/lib/python3.12/site-packages/numpy/core/fromnumeric.py:59: FutureWarning: 'Series.swapaxes' is deprecated and will be removed in a future version. Please use 'Series.transpose' instead.\n",
      "  return bound(*args, **kwds)\n",
      "Cleaning 'summary': 100%|████████████████████████████████████████████████████████████████████████████████| 16/16 [00:01<00:00, 10.82it/s]\n",
      "/home/bubbles/miniconda3/envs/lstm/lib/python3.12/site-packages/numpy/core/fromnumeric.py:59: FutureWarning: 'Series.swapaxes' is deprecated and will be removed in a future version. Please use 'Series.transpose' instead.\n",
      "  return bound(*args, **kwds)\n",
      "Cleaning 'transcript': 100%|█████████████████████████████████████████████████████████████████████████████| 16/16 [00:02<00:00,  7.73it/s]\n",
      "/home/bubbles/miniconda3/envs/lstm/lib/python3.12/site-packages/numpy/core/fromnumeric.py:59: FutureWarning: 'Series.swapaxes' is deprecated and will be removed in a future version. Please use 'Series.transpose' instead.\n",
      "  return bound(*args, **kwds)\n",
      "Cleaning 'summary': 100%|███████████████████████████████████████████████████████████████████████████████| 16/16 [00:00<00:00, 134.96it/s]\n",
      "/home/bubbles/miniconda3/envs/lstm/lib/python3.12/site-packages/numpy/core/fromnumeric.py:59: FutureWarning: 'Series.swapaxes' is deprecated and will be removed in a future version. Please use 'Series.transpose' instead.\n",
      "  return bound(*args, **kwds)\n",
      "Cleaning 'transcript': 100%|█████████████████████████████████████████████████████████████████████████████| 16/16 [00:00<00:00, 18.61it/s]\n",
      "/home/bubbles/miniconda3/envs/lstm/lib/python3.12/site-packages/numpy/core/fromnumeric.py:59: FutureWarning: 'Series.swapaxes' is deprecated and will be removed in a future version. Please use 'Series.transpose' instead.\n",
      "  return bound(*args, **kwds)\n",
      "Cleaning 'summary': 100%|███████████████████████████████████████████████████████████████████████████████| 16/16 [00:00<00:00, 155.27it/s]\n"
     ]
    }
   ],
   "source": [
    "train_df = clean_data(train_df)\n",
    "validation_df = clean_data(validation_df)\n",
    "test_df = clean_data(test_df)"
   ]
  },
  {
   "cell_type": "code",
   "execution_count": 57,
   "id": "31b9012c-be41-4b2c-8006-951cc10f956b",
   "metadata": {},
   "outputs": [],
   "source": [
    "# Add START and END tokens to summaries\n",
    "train_df['summary'] = train_df['summary'].apply(lambda x: '<sos> ' + x + ' <eos>')\n",
    "validation_df['summary'] = validation_df['summary'].apply(lambda x: '<sos> ' + x + ' <eos>')\n",
    "test_df['summary'] = test_df['summary'].apply(lambda x: '<sos> ' + x + ' <eos>')"
   ]
  },
  {
   "cell_type": "code",
   "execution_count": 58,
   "id": "ff5767ad-4501-4c39-8d2f-ea19e4d33b47",
   "metadata": {},
   "outputs": [],
   "source": [
    "# train_df.iloc[42]['summary']"
   ]
  },
  {
   "cell_type": "code",
   "execution_count": 59,
   "id": "9df096fc-94eb-45ee-b917-4335c8c2bbfa",
   "metadata": {},
   "outputs": [
    {
     "data": {
      "image/png": "[encoded data removed]",
      "text/plain": [
       "<Figure size 640x480 with 2 Axes>"
      ]
     },
     "metadata": {},
     "output_type": "display_data"
    }
   ],
   "source": [
    "# EDA on sentence length for helping us choose max seq length when adding padding\n",
    "transcript_word_count = []\n",
    "summary_word_count = []\n",
    "\n",
    "# populate the lists with sentence lengths\n",
    "for i in train_df['transcript']:\n",
    "      transcript_word_count.append(len(i.split()))\n",
    "\n",
    "for i in train_df['summary']:\n",
    "      summary_word_count.append(len(i.split()))\n",
    "\n",
    "length_df = pd.DataFrame({'transcript':transcript_word_count, 'summary':summary_word_count})\n",
    "length_df.hist(bins = 30)\n",
    "plt.show()"
   ]
  },
  {
   "cell_type": "code",
   "execution_count": 60,
   "id": "e8fb6c25-3a43-4c29-a369-255b7c0f8ee2",
   "metadata": {},
   "outputs": [],
   "source": [
    "# Based on this let's choose max seq lengths that capture most of the distribution in the graphs above\n",
    "max_len_summary = 100\n",
    "max_len_transcript = 1000\n",
    "vocab_size = 20_000"
   ]
  },
  {
   "cell_type": "markdown",
   "id": "534d8c6b-55c0-44e5-b342-0dad65b06272",
   "metadata": {},
   "source": [
    "# 2. Time to make tokenizers woohoo"
   ]
  },
  {
   "cell_type": "code",
   "execution_count": 61,
   "id": "c6f654d5-a528-45b4-9319-fea44a69429f",
   "metadata": {},
   "outputs": [],
   "source": [
    "from collections import Counter\n",
    "from torch.nn.utils.rnn import pad_sequence\n",
    "\n",
    "class Tokenizer:\n",
    "    def __init__(self, num_words=None, oov_token=\"<unk>\"):\n",
    "        self.word_index = {\"<pad>\": 0, oov_token: 1}\n",
    "        self.index_word = {0: \"<pad>\", 1: oov_token}\n",
    "        self.num_words = num_words\n",
    "        self.oov_token = oov_token\n",
    "\n",
    "    def fit_on_texts(self, texts):\n",
    "        word_counts = Counter(word for text in texts for word in text.split())\n",
    "        sorted_vocab = sorted(word_counts.items(), key=lambda x: x[1], reverse=True)\n",
    "        \n",
    "        for idx, (word, _) in enumerate(sorted_vocab, start=2):\n",
    "            if self.num_words and idx >= self.num_words:\n",
    "                break\n",
    "            self.word_index[word] = idx\n",
    "            self.index_word[idx] = word\n",
    "\n",
    "    def texts_to_sequences(self, texts):\n",
    "        return [\n",
    "            [self.word_index.get(word, self.word_index[self.oov_token]) for word in text.split()]\n",
    "            for text in texts\n",
    "        ]\n",
    "\n",
    "def pad_sequences(seqs, maxlen, padding_value=0):\n",
    "    padded_seqs = []\n",
    "    for seq in seqs:\n",
    "        if len(seq) > maxlen:\n",
    "            seq = seq[:maxlen]\n",
    "        padded_seqs.append(torch.tensor(seq + [padding_value] * (maxlen - len(seq))))\n",
    "    return torch.stack(padded_seqs)\n",
    "\n",
    "def process_data(df, max_len_transcript, max_len_summary, x_tokenizer, y_tokenizer):\n",
    "    \"\"\"\n",
    "    Tokenize and pad sequences for both transcripts and summaries.\n",
    "    Args:\n",
    "        df: DataFrame containing 'transcript' and 'summary'.\n",
    "        max_len_transcript: Maximum length for transcript sequences.\n",
    "        max_len_summary: Maximum length for summary sequences.\n",
    "        x_tokenizer: Tokenizer for transcripts.\n",
    "        y_tokenizer: Tokenizer for summaries.\n",
    "    Returns:\n",
    "        x_padded: Padded sequences for transcripts.\n",
    "        y_padded: Padded sequences for summaries.\n",
    "    \"\"\"\n",
    "    # Tokenize and pad transcripts\n",
    "    x_seq = x_tokenizer.texts_to_sequences(df['transcript'])\n",
    "    x_padded = pad_sequences(x_seq, max_len_transcript)\n",
    "\n",
    "    # Tokenize and pad summaries\n",
    "    y_seq = y_tokenizer.texts_to_sequences(df['summary'])\n",
    "    y_padded = pad_sequences(y_seq, max_len_summary)\n",
    "    \n",
    "    return x_padded, y_padded"
   ]
  },
  {
   "cell_type": "code",
   "execution_count": 62,
   "id": "3ad27b6a-4f0b-4f16-917d-6ecc35035c0d",
   "metadata": {},
   "outputs": [
    {
     "name": "stderr",
     "output_type": "stream",
     "text": [
      "Exception ignored in: Traceback (most recent call last):\n",
      "  File \"/home/bubbles/miniconda3/envs/lstm/lib/python3.12/multiprocessing/queues.py\", line 259, in _feed\n",
      "    reader_close()\n",
      "  File \"/home/bubbles/miniconda3/envs/lstm/lib/python3.12/multiprocessing/connection.py\", line 178, in close\n",
      "    self._close()\n",
      "  File \"/home/bubbles/miniconda3/envs/lstm/lib/python3.12/multiprocessing/connection.py\", line 377, in _close\n",
      "    _close(self._handle)\n",
      "OSError: [Errno 9] Bad file descriptor\n",
      "Traceback (most recent call last):\n",
      "  File \"/home/bubbles/miniconda3/envs/lstm/lib/python3.12/multiprocessing/queues.py\", line 259, in _feed\n",
      "    reader_close()\n",
      "  File \"/home/bubbles/miniconda3/envs/lstm/lib/python3.12/multiprocessing/connection.py\", line 178, in close\n",
      "    self._close()\n",
      "  File \"/home/bubbles/miniconda3/envs/lstm/lib/python3.12/multiprocessing/connection.py\", line 377, in _close\n",
      "    _close(self._handle)\n",
      "OSError: [Errno 9] Bad file descriptor\n",
      "Traceback (most recent call last):\n",
      "  File \"/home/bubbles/miniconda3/envs/lstm/lib/python3.12/multiprocessing/queues.py\", line 259, in _feed\n",
      "    reader_close()\n",
      "  File \"/home/bubbles/miniconda3/envs/lstm/lib/python3.12/multiprocessing/connection.py\", line 178, in close\n",
      "    self._close()\n",
      "  File \"/home/bubbles/miniconda3/envs/lstm/lib/python3.12/multiprocessing/connection.py\", line 377, in _close\n",
      "    _close(self._handle)\n",
      "OSError: [Errno 9] Bad file descriptor\n",
      "<function _ConnectionBase.__del__ at 0x7efbed7cee80>\n",
      "Traceback (most recent call last):\n",
      "  File \"/home/bubbles/miniconda3/envs/lstm/lib/python3.12/multiprocessing/connection.py\", line 133, in __del__\n",
      "Traceback (most recent call last):\n",
      "  File \"/home/bubbles/miniconda3/envs/lstm/lib/python3.12/multiprocessing/queues.py\", line 259, in _feed\n",
      "    reader_close()\n",
      "  File \"/home/bubbles/miniconda3/envs/lstm/lib/python3.12/multiprocessing/connection.py\", line 178, in close\n",
      "    self._close()\n",
      "  File \"/home/bubbles/miniconda3/envs/lstm/lib/python3.12/multiprocessing/connection.py\", line 377, in _close\n",
      "    _close(self._handle)\n",
      "OSError: [Errno 9] Bad file descriptor\n",
      "    self._close()\n",
      "  File \"/home/bubbles/miniconda3/envs/lstm/lib/python3.12/multiprocessing/connection.py\", line 377, in _close\n",
      "    _close(self._handle)\n",
      "OSError: [Errno 9] Bad file descriptor\n"
     ]
    },
    {
     "name": "stdout",
     "output_type": "stream",
     "text": [
      "Training Data: X=torch.Size([60000, 1000]), Y=torch.Size([60000, 100])\n",
      "Validation Data: X=torch.Size([2865, 1000]), Y=torch.Size([2865, 100])\n",
      "Test Data: X=torch.Size([2462, 1000]), Y=torch.Size([2462, 100])\n"
     ]
    }
   ],
   "source": [
    "x_tokenizer = Tokenizer(num_words=vocab_size, oov_token=\"<unk>\")\n",
    "y_tokenizer = Tokenizer(num_words=vocab_size, oov_token=\"<unk>\")\n",
    "\n",
    "# Fit tokenizers on training set\n",
    "x_tokenizer.fit_on_texts(train_df['transcript'])\n",
    "y_tokenizer.fit_on_texts(train_df['summary'])\n",
    "\n",
    "# Process data\n",
    "x_train_padded, y_train_padded = process_data(train_df, max_len_transcript, max_len_summary, x_tokenizer, y_tokenizer)\n",
    "x_val_padded, y_val_padded = process_data(validation_df, max_len_transcript, max_len_summary, x_tokenizer, y_tokenizer)\n",
    "x_test_padded, y_test_padded = process_data(test_df, max_len_transcript, max_len_summary, x_tokenizer, y_tokenizer)\n",
    "\n",
    "# Log processed data shapes\n",
    "print(f\"Training Data: X={x_train_padded.shape}, Y={y_train_padded.shape}\")\n",
    "print(f\"Validation Data: X={x_val_padded.shape}, Y={y_val_padded.shape}\")\n",
    "print(f\"Test Data: X={x_test_padded.shape}, Y={y_test_padded.shape}\")"
   ]
  },
  {
   "cell_type": "markdown",
   "id": "eb696373-bec5-416a-a332-b87e4f22ac04",
   "metadata": {},
   "source": [
    "# 3. Actually (finally) building the LSTM"
   ]
  },
  {
   "cell_type": "code",
   "execution_count": 63,
   "id": "c30db763-5a04-44bd-8133-579622f0939b",
   "metadata": {},
   "outputs": [],
   "source": [
    "import torch\n",
    "import torch.nn as nn\n",
    "import torch.optim as optim\n",
    "from torch.utils.data import DataLoader, TensorDataset\n",
    "from torch.cuda.amp import autocast, GradScaler"
   ]
  },
  {
   "cell_type": "markdown",
   "id": "4de3e76c-f368-4fd7-b0db-6f581b87588c",
   "metadata": {},
   "source": [
    "## Architecture and hyperparams"
   ]
  },
  {
   "cell_type": "code",
   "execution_count": 64,
   "id": "33a60370-679f-4e66-b50a-558025fa7ab1",
   "metadata": {},
   "outputs": [],
   "source": [
    "import torch\n",
    "import torch.nn as nn\n",
    "\n",
    "class Encoder(nn.Module):\n",
    "    def __init__(self, embed_dim, hidden_dim, num_layers, dropout, pretrained_embeddings):\n",
    "        super(Encoder, self).__init__()\n",
    "        self.embedding = nn.Embedding.from_pretrained(pretrained_embeddings, freeze=False)  # Fine-tune embeddings\n",
    "        self.lstm = nn.LSTM(\n",
    "            embed_dim, \n",
    "            hidden_dim, \n",
    "            num_layers, \n",
    "            dropout=dropout, \n",
    "            batch_first=True, \n",
    "            bidirectional=True \n",
    "        )\n",
    "        self.hidden_proj = nn.Linear(hidden_dim * 2, hidden_dim)\n",
    "        self.cell_proj = nn.Linear(hidden_dim * 2, hidden_dim)\n",
    "\n",
    "    def forward(self, x):\n",
    "        embedded = self.embedding(x)\n",
    "        outputs, (hidden, cell) = self.lstm(embedded)\n",
    "        \n",
    "        # Combine bidirectional outputs for compatibility with decoder\n",
    "        hidden = torch.tanh(self.hidden_proj(torch.cat((hidden[-2,:,:], hidden[-1,:,:]), dim=1))) \n",
    "        cell = torch.tanh(self.cell_proj(torch.cat((cell[-2,:,:], cell[-1,:,:]), dim=1))) \n",
    "\n",
    "        return hidden.unsqueeze(0), cell.unsqueeze(0)\n",
    "\n",
    "\n",
    "class Decoder(nn.Module):\n",
    "    def __init__(self, embed_dim, hidden_dim, num_layers, dropout, pretrained_embeddings, output_dim):\n",
    "        super(Decoder, self).__init__()\n",
    "        self.embedding = nn.Embedding.from_pretrained(pretrained_embeddings, freeze=False)  # Fine-tune embeddings\n",
    "        self.lstm = nn.LSTM(\n",
    "            embed_dim, \n",
    "            hidden_dim, \n",
    "            num_layers, \n",
    "            dropout=dropout, \n",
    "            batch_first=True\n",
    "        )\n",
    "        self.fc = nn.Linear(hidden_dim, output_dim)  # Final fully connected layer for predictions\n",
    "        self.dropout = nn.Dropout(dropout)\n",
    "\n",
    "    def forward(self, x, hidden, cell):\n",
    "        # Add a sequence dimension (batch_size -> batch_size, 1)\n",
    "        x = x.unsqueeze(1)\n",
    "        embedded = self.dropout(self.embedding(x))\n",
    "        outputs, (hidden, cell) = self.lstm(embedded, (hidden, cell))\n",
    "        predictions = self.fc(outputs.squeeze(1))  # Remove seq dim: (batch_size, output_dim)\n",
    "        return predictions, hidden, cell\n"
   ]
  },
  {
   "cell_type": "code",
   "execution_count": 65,
   "id": "c90328ef-5ccd-4753-aa20-7068dead7717",
   "metadata": {},
   "outputs": [],
   "source": [
    "class Seq2Seq(nn.Module):\n",
    "    def __init__(self, encoder, decoder, device, pad_idx=None):\n",
    "        super(Seq2Seq, self).__init__()\n",
    "        self.encoder = encoder\n",
    "        self.decoder = decoder\n",
    "        self.device = device\n",
    "        self.pad_idx = pad_idx\n",
    "\n",
    "    def forward(self, src, trg, teacher_forcing_ratio=0.5):\n",
    "        \"\"\"\n",
    "        Forward pass for Seq2Seq model.\n",
    "        \n",
    "        Args:\n",
    "            src: Source sequence (input) tensor of shape (batch_size, src_len).\n",
    "            trg: Target sequence (output) tensor of shape (batch_size, trg_len).\n",
    "            teacher_forcing_ratio: Probability of using teacher forcing.\n",
    "        \n",
    "        Returns:\n",
    "            outputs: Tensor of shape (batch_size, trg_len, trg_vocab_size).\n",
    "        \"\"\"\n",
    "        trg_len = trg.shape[1]\n",
    "        batch_size = trg.shape[0]\n",
    "        trg_vocab_size = self.decoder.fc.out_features\n",
    "\n",
    "        outputs = torch.zeros(batch_size, trg_len, trg_vocab_size).to(self.device)\n",
    "\n",
    "        hidden, cell = self.encoder(src)\n",
    "\n",
    "        input_token = trg[:, 0]\n",
    "\n",
    "        for t in range(1, trg_len):\n",
    "            output, hidden, cell = self.decoder(input_token, hidden, cell)\n",
    "            outputs[:, t, :] = output \n",
    "\n",
    "            teacher_force = torch.rand(1).item() < teacher_forcing_ratio\n",
    "            input_token = trg[:, t] if teacher_force else output.argmax(1)\n",
    "        return outputs\n"
   ]
  },
  {
   "cell_type": "markdown",
   "id": "2e843df0-2304-4784-8ea9-215a34932a50",
   "metadata": {},
   "source": [
    "## Setup and Hyperparameters"
   ]
  },
  {
   "cell_type": "code",
   "execution_count": 66,
   "id": "f23f5e9d-fca3-4223-9b94-9071efc60c35",
   "metadata": {
    "scrolled": true
   },
   "outputs": [
    {
     "name": "stdout",
     "output_type": "stream",
     "text": [
      "Loading glove-wiki-gigaword-300 embeddings...\n",
      "Embeddings loaded successfully.\n",
      "Loading glove-wiki-gigaword-300 embeddings...\n",
      "Embeddings loaded successfully.\n"
     ]
    }
   ],
   "source": [
    "# Get pretrained embeddings\n",
    "import gensim.downloader as api\n",
    "import numpy as np\n",
    "import torch\n",
    "\n",
    "def load_pretrained_embeddings(word_index, embedding_dim=300, embedding_type='glove-wiki-gigaword-300'):\n",
    "    \"\"\"\n",
    "    Load pretrained embeddings using Gensim and create an embedding matrix.\n",
    "\n",
    "    Args:\n",
    "        word_index: Vocabulary dictionary (word -> index).\n",
    "        embedding_dim: Dimension of word vectors.\n",
    "        embedding_type: Type of pretrained embeddings to load ('glove-wiki-gigaword-300', 'fasttext-wiki-news-subwords-300', etc.).\n",
    "\n",
    "    Returns:\n",
    "        embedding_matrix: A PyTorch tensor with pretrained embeddings.\n",
    "    \"\"\"\n",
    "    print(f\"Loading {embedding_type} embeddings...\")\n",
    "    embeddings_model = api.load(embedding_type)\n",
    "    print(\"Embeddings loaded successfully.\")\n",
    "\n",
    "    # Initialize embedding matrix\n",
    "    vocab_size = len(word_index) + 1  # +1 for padding token\n",
    "    embedding_matrix = np.zeros((vocab_size, embedding_dim))\n",
    "\n",
    "    for word, idx in word_index.items():\n",
    "        if word in embeddings_model:\n",
    "            embedding_matrix[idx] = embeddings_model[word]\n",
    "        else:\n",
    "            embedding_matrix[idx] = np.random.normal(scale=0.6, size=(embedding_dim,))  # Random init for OOV words\n",
    "\n",
    "    return torch.tensor(embedding_matrix, dtype=torch.float32)\n",
    "\n",
    "embedding_dim = 300 \n",
    "x_pretrained_embeddings = load_pretrained_embeddings(x_tokenizer.word_index, embedding_dim, embedding_type='glove-wiki-gigaword-300')\n",
    "y_pretrained_embeddings = load_pretrained_embeddings(y_tokenizer.word_index, embedding_dim, embedding_type='glove-wiki-gigaword-300')\n"
   ]
  },
  {
   "cell_type": "code",
   "execution_count": 75,
   "id": "cab2cd21-9613-4812-8de3-26226159dc12",
   "metadata": {},
   "outputs": [],
   "source": [
    "hidden_dim = 512\n",
    "embedding_dim_x = x_pretrained_embeddings.size(1)\n",
    "embedding_dim_y = y_pretrained_embeddings.size(1)\n",
    "vocab_size_x = len(x_tokenizer.word_index) + 1 \n",
    "vocab_size_y = len(y_tokenizer.word_index) + 1\n",
    "num_layers = 1\n",
    "dropout_rate = 0.5\n",
    "learning_rate = 1e-3 \n",
    "embedding_lr = 1e-4\n",
    "num_epochs = 30\n",
    "batch_size = 128 \n",
    "\n",
    "device = torch.device(\"cuda\" if torch.cuda.is_available() else \"cpu\")\n",
    "\n",
    "encoder = Encoder(\n",
    "    embed_dim=embedding_dim_x, \n",
    "    hidden_dim=hidden_dim, \n",
    "    num_layers=num_layers, \n",
    "    dropout=dropout_rate, \n",
    "    pretrained_embeddings=x_pretrained_embeddings\n",
    ")\n",
    "\n",
    "decoder = Decoder(\n",
    "    embed_dim=embedding_dim_y, \n",
    "    hidden_dim=hidden_dim, \n",
    "    num_layers=num_layers, \n",
    "    dropout=dropout_rate, \n",
    "    pretrained_embeddings=y_pretrained_embeddings,\n",
    "    output_dim=vocab_size_y\n",
    ")\n",
    "\n",
    "model = Seq2Seq(encoder, decoder, device, pad_idx=0).to(device)\n",
    "\n",
    "# Set up optimizer with differential learning rates\n",
    "optimizer = torch.optim.Adam([\n",
    "    {'params': encoder.embedding.parameters(), 'lr': embedding_lr},\n",
    "    {'params': encoder.lstm.parameters()},\n",
    "    {'params': decoder.embedding.parameters(), 'lr': embedding_lr},\n",
    "    {'params': decoder.lstm.parameters()},\n",
    "    {'params': decoder.fc.parameters()}\n",
    "], lr=learning_rate)\n",
    "\n",
    "criterion = nn.CrossEntropyLoss(ignore_index=0)"
   ]
  },
  {
   "cell_type": "markdown",
   "id": "35a2c389-cf66-4d10-af0a-9e4483a524ab",
   "metadata": {},
   "source": [
    "## Dataset and Dataloader Init"
   ]
  },
  {
   "cell_type": "code",
   "execution_count": 76,
   "id": "9f369a8f-148b-4010-9b58-68dc80c3b6b1",
   "metadata": {},
   "outputs": [],
   "source": [
    "from torch.utils.data import Subset\n",
    "\n",
    "def get_subset(dataset, fraction=0.2):\n",
    "    subset_size = int(len(dataset) * fraction)\n",
    "    subset_indices = random.sample(range(len(dataset)), subset_size)\n",
    "    return Subset(dataset, subset_indices)"
   ]
  },
  {
   "cell_type": "code",
   "execution_count": 77,
   "id": "0907beb3-1d20-4e2b-a1f5-db29a71bec60",
   "metadata": {},
   "outputs": [
    {
     "name": "stdout",
     "output_type": "stream",
     "text": [
      "Subsampled Train DataLoader: 94 batches of size 128\n",
      "Validation DataLoader: 23 batches of size 128\n",
      "Test DataLoader: 20 batches of size 128\n"
     ]
    },
    {
     "name": "stderr",
     "output_type": "stream",
     "text": [
      "/tmp/ipykernel_3763/143856901.py:2: UserWarning: To copy construct from a tensor, it is recommended to use sourceTensor.clone().detach() or sourceTensor.clone().detach().requires_grad_(True), rather than torch.tensor(sourceTensor).\n",
      "  x_train_padded = torch.tensor(x_train_padded, dtype=torch.long).pin_memory()\n",
      "/tmp/ipykernel_3763/143856901.py:3: UserWarning: To copy construct from a tensor, it is recommended to use sourceTensor.clone().detach() or sourceTensor.clone().detach().requires_grad_(True), rather than torch.tensor(sourceTensor).\n",
      "  y_train_padded = torch.tensor(y_train_padded, dtype=torch.long).pin_memory()\n",
      "/tmp/ipykernel_3763/143856901.py:4: UserWarning: To copy construct from a tensor, it is recommended to use sourceTensor.clone().detach() or sourceTensor.clone().detach().requires_grad_(True), rather than torch.tensor(sourceTensor).\n",
      "  x_val_padded = torch.tensor(x_val_padded, dtype=torch.long).pin_memory()\n",
      "/tmp/ipykernel_3763/143856901.py:5: UserWarning: To copy construct from a tensor, it is recommended to use sourceTensor.clone().detach() or sourceTensor.clone().detach().requires_grad_(True), rather than torch.tensor(sourceTensor).\n",
      "  y_val_padded = torch.tensor(y_val_padded, dtype=torch.long).pin_memory()\n",
      "/tmp/ipykernel_3763/143856901.py:6: UserWarning: To copy construct from a tensor, it is recommended to use sourceTensor.clone().detach() or sourceTensor.clone().detach().requires_grad_(True), rather than torch.tensor(sourceTensor).\n",
      "  x_test_padded = torch.tensor(x_test_padded, dtype=torch.long).pin_memory()\n",
      "/tmp/ipykernel_3763/143856901.py:7: UserWarning: To copy construct from a tensor, it is recommended to use sourceTensor.clone().detach() or sourceTensor.clone().detach().requires_grad_(True), rather than torch.tensor(sourceTensor).\n",
      "  y_test_padded = torch.tensor(y_test_padded, dtype=torch.long).pin_memory()\n"
     ]
    }
   ],
   "source": [
    "y_train_padded = torch.tensor(y_train_padded, dtype=torch.long).pin_memory()\n",
    "x_val_padded = torch.tensor(x_val_padded, dtype=torch.long).pin_memory()\n",
    "y_val_padded = torch.tensor(y_val_padded, dtype=torch.long).pin_memory()\n",
    "x_test_padded = torch.tensor(x_test_padded, dtype=torch.long).pin_memory()\n",
    "y_test_padded = torch.tensor(y_test_padded, dtype=torch.long).pin_memory()\n",
    "\n",
    "train_dataset = TensorDataset(x_train_padded, y_train_padded)\n",
    "val_dataset = TensorDataset(x_val_padded, y_val_padded)\n",
    "test_dataset = TensorDataset(x_test_padded, y_test_padded)\n",
    "\n",
    "# Apply subsampling to the training dataset\n",
    "fraction = 0.2\n",
    "train_subset = get_subset(train_dataset, fraction=fraction)\n",
    "\n",
    "train_loader = DataLoader(\n",
    "    train_subset,\n",
    "    batch_size=batch_size,\n",
    "    shuffle=True,\n",
    "    pin_memory=True,\n",
    "    num_workers=24,\n",
    "    prefetch_factor=8,\n",
    "    persistent_workers=True\n",
    ")\n",
    "\n",
    "print(f\"Subsampled Train DataLoader: {len(train_loader)} batches of size {batch_size}\")\n",
    "\n",
    "val_loader = DataLoader(\n",
    "    val_dataset, \n",
    "    batch_size=batch_size, \n",
    "    shuffle=False, \n",
    "    pin_memory=True, \n",
    "    num_workers=24, \n",
    "    prefetch_factor=8, \n",
    "    persistent_workers=True\n",
    ")\n",
    "\n",
    "test_loader = DataLoader(\n",
    "    test_dataset, \n",
    "    batch_size=batch_size, \n",
    "    shuffle=False, \n",
    "    pin_memory=True, \n",
    "    num_workers=24, \n",
    "    prefetch_factor=8, \n",
    "    persistent_workers=True\n",
    ")\n",
    "\n",
    "print(f\"Validation DataLoader: {len(val_loader)} batches of size {batch_size}\")\n",
    "print(f\"Test DataLoader: {len(test_loader)} batches of size {batch_size}\")"
   ]
  },
  {
   "cell_type": "markdown",
   "id": "0b5cea6a-8600-43b4-83c2-0997625c36ed",
   "metadata": {},
   "source": [
    "## Training"
   ]
  },
  {
   "cell_type": "code",
   "execution_count": 78,
   "id": "1b650cc5-147f-4878-a8bc-6c70a9ed4ff1",
   "metadata": {},
   "outputs": [],
   "source": [
    "import random\n",
    "from torch.cuda.amp import autocast, GradScaler\n",
    "from torch.nn.utils import clip_grad_norm_\n",
    "from tqdm import tqdm\n",
    "\n",
    "def calculate_accuracy(predictions, targets, pad_idx=0):\n",
    "    pred_tokens = predictions.argmax(-1)\n",
    "    correct = (pred_tokens == targets).float()\n",
    "    mask = (targets != pad_idx).float()  # Ignore <pad> tokens\n",
    "    accuracy = (correct * mask).sum() / mask.sum()\n",
    "    return accuracy.item()\n",
    "\n",
    "def masked_loss(output, target, criterion, pad_idx=0):\n",
    "    mask = target != pad_idx\n",
    "    output = output.view(-1, output.size(-1))\n",
    "    target = target.view(-1)\n",
    "    loss = criterion(output, target)\n",
    "    loss = (loss * mask.view(-1)).sum() / mask.sum()\n",
    "    return loss\n",
    "\n",
    "def train_one_epoch(model, train_loader, optimizer, criterion, scaler, accumulation_steps=1, teacher_forcing_ratio=0.5):\n",
    "    model.train()\n",
    "    train_loss = 0\n",
    "    train_accuracy = 0\n",
    "    optimizer.zero_grad()\n",
    "\n",
    "    with tqdm(total=len(train_loader), desc=\"Training\", unit=\"batch\") as pbar:\n",
    "        for step, (X_batch, y_batch) in enumerate(train_loader):\n",
    "            X_batch, y_batch = X_batch.to(device, non_blocking=True), y_batch.to(device, non_blocking=True)\n",
    "\n",
    "            with torch.amp.autocast(\"cuda\" if torch.cuda.is_available() else \"cpu\"):\n",
    "                output = model(X_batch, y_batch, teacher_forcing_ratio=teacher_forcing_ratio)\n",
    "                loss = masked_loss(output, y_batch, criterion) / accumulation_steps\n",
    "\n",
    "            scaler.scale(loss).backward()\n",
    "\n",
    "            # Update weights after accumulation_steps\n",
    "            if (step + 1) % accumulation_steps == 0 or (step + 1) == len(train_loader):\n",
    "                clip_grad_norm_(model.parameters(), max_norm=1.0)\n",
    "                scaler.step(optimizer)\n",
    "                scaler.update()\n",
    "                optimizer.zero_grad()\n",
    "\n",
    "            accuracy = calculate_accuracy(output, y_batch)\n",
    "            train_loss += loss.item() * accumulation_steps\n",
    "            train_accuracy += accuracy\n",
    "\n",
    "            pbar.set_postfix({\"Loss\": loss.item() * accumulation_steps, \"Accuracy\": accuracy})\n",
    "            pbar.update(1)\n",
    "\n",
    "    avg_loss = train_loss / len(train_loader)\n",
    "    avg_accuracy = train_accuracy / len(train_loader)\n",
    "    return avg_loss, avg_accuracy\n",
    "\n",
    "def validate_one_epoch(model, val_loader, criterion):\n",
    "    model.eval()\n",
    "    val_loss = 0\n",
    "    val_accuracy = 0\n",
    "\n",
    "    with torch.no_grad():\n",
    "        with tqdm(total=len(val_loader), desc=\"Validation\", unit=\"batch\") as pbar:\n",
    "            for X_batch, y_batch in val_loader:\n",
    "                X_batch, y_batch = X_batch.to(device, non_blocking=True), y_batch.to(device, non_blocking=True)\n",
    "\n",
    "                with torch.amp.autocast(\"cuda\" if torch.cuda.is_available() else \"cpu\"):\n",
    "                    output = model(X_batch, y_batch, teacher_forcing_ratio=0)  # No teacher forcing during validation\n",
    "                    loss = masked_loss(output, y_batch, criterion)\n",
    "\n",
    "                accuracy = calculate_accuracy(output, y_batch)\n",
    "                val_loss += loss.item()\n",
    "                val_accuracy += accuracy\n",
    "\n",
    "                pbar.set_postfix({\"Loss\": loss.item(), \"Accuracy\": accuracy})\n",
    "                pbar.update(1)\n",
    "\n",
    "    avg_loss = val_loss / len(val_loader)\n",
    "    avg_accuracy = val_accuracy / len(val_loader)\n",
    "    return avg_loss, avg_accuracy\n",
    "\n",
    "def train(model, train_dataset, val_loader, optimizer, criterion, fraction=0.2):\n",
    "    scaler = GradScaler()\n",
    "\n",
    "    for epoch in range(num_epochs):\n",
    "        print(f\"Epoch {epoch + 1}/{num_epochs}\")\n",
    "\n",
    "        # Create a new subset of the training dataset for this epoch\n",
    "        train_subset = get_subset(train_dataset, fraction=fraction)  # Use train_dataset, not train_loader\n",
    "        train_loader = DataLoader(\n",
    "            train_subset,\n",
    "            batch_size=batch_size,\n",
    "            shuffle=True,\n",
    "            pin_memory=True,\n",
    "            num_workers=24,\n",
    "            prefetch_factor=8,\n",
    "            persistent_workers=True\n",
    "        )\n",
    "\n",
    "        teacher_forcing_ratio = max(0.5 - epoch * 0.02, 0.1)  # Reduce teacher forcing over epochs\n",
    "        train_loss, train_accuracy = train_one_epoch(\n",
    "            model, train_loader, optimizer, criterion, scaler, accumulation_steps=2, teacher_forcing_ratio=teacher_forcing_ratio\n",
    "        )\n",
    "\n",
    "        torch.cuda.synchronize()  # Ensure training computations complete\n",
    "\n",
    "        val_loss, val_accuracy = validate_one_epoch(model, val_loader, criterion)\n",
    "\n",
    "        print(f\"Train Loss: {train_loss:.4f}, Train Accuracy: {train_accuracy:.4f}\")\n",
    "        print(f\"Validation Loss: {val_loss:.4f}, Validation Accuracy: {val_accuracy:.4f}\")\n",
    "\n",
    "def evaluate(model, test_loader, criterion):\n",
    "    model.eval()\n",
    "    test_loss = 0\n",
    "    test_accuracy = 0\n",
    "\n",
    "    print(\"Evaluating on test data...\")\n",
    "    with torch.no_grad():\n",
    "        with tqdm(total=len(test_loader), desc=\"Testing\", unit=\"batch\") as pbar:\n",
    "            for X_batch, y_batch in test_loader:\n",
    "                X_batch, y_batch = X_batch.to(device, non_blocking=True), y_batch.to(device, non_blocking=True)\n",
    "\n",
    "                with autocast(device_type=\"cuda\" if torch.cuda.is_available() else \"cpu\"):\n",
    "                    output = model(X_batch, y_batch, teacher_forcing_ratio=0)  # No teacher forcing during evaluation\n",
    "                    loss = masked_loss(output, y_batch, criterion)\n",
    "\n",
    "                accuracy = calculate_accuracy(output, y_batch)\n",
    "                test_loss += loss.item()\n",
    "                test_accuracy += accuracy\n",
    "\n",
    "                pbar.set_postfix({\"Loss\": loss.item(), \"Accuracy\": accuracy})\n",
    "                pbar.update(1)\n",
    "\n",
    "    avg_loss = test_loss / len(test_loader)\n",
    "    avg_accuracy = test_accuracy / len(test_loader)\n",
    "    print(f\"Test Loss: {avg_loss:.4f}, Test Accuracy: {avg_accuracy:.4f}\")\n"
   ]
  },
  {
   "cell_type": "code",
   "execution_count": 79,
   "id": "2bf3c9c5-10b1-448b-ad3a-3a012e274415",
   "metadata": {},
   "outputs": [],
   "source": [
    "# torch.cuda.empty_cache()"
   ]
  },
  {
   "cell_type": "code",
   "execution_count": null,
   "id": "f0073e39-d49a-4454-9080-a981e40883d3",
   "metadata": {
    "scrolled": true
   },
   "outputs": [
    {
     "name": "stderr",
     "output_type": "stream",
     "text": [
      "/tmp/ipykernel_3763/2232307417.py:96: FutureWarning: `torch.cuda.amp.GradScaler(args...)` is deprecated. Please use `torch.amp.GradScaler('cuda', args...)` instead.\n",
      "  scaler = GradScaler()\n"
     ]
    },
    {
     "name": "stdout",
     "output_type": "stream",
     "text": [
      "Epoch 1/30\n"
     ]
    },
    {
     "name": "stderr",
     "output_type": "stream",
     "text": [
      "Training: 100%|████████████████████████████████████████████████████████████| 94/94 [01:03<00:00,  1.49batch/s, Loss=7.83, Accuracy=0.054]\n",
      "Validation: 100%|█████████████████████████████████████████████████████████| 23/23 [00:08<00:00,  2.80batch/s, Loss=7.54, Accuracy=0.0656]\n"
     ]
    },
    {
     "name": "stdout",
     "output_type": "stream",
     "text": [
      "Train Loss: 8.6153, Train Accuracy: 0.0518\n",
      "Validation Loss: 7.6692, Validation Accuracy: 0.0596\n",
      "Epoch 2/30\n"
     ]
    },
    {
     "name": "stderr",
     "output_type": "stream",
     "text": [
      "Training: 100%|███████████████████████████████████████████████████████████| 94/94 [01:02<00:00,  1.50batch/s, Loss=7.59, Accuracy=0.0645]\n",
      "Validation: 100%|█████████████████████████████████████████████████████████| 23/23 [00:06<00:00,  3.49batch/s, Loss=7.44, Accuracy=0.0656]\n"
     ]
    },
    {
     "name": "stdout",
     "output_type": "stream",
     "text": [
      "Train Loss: 7.7021, Train Accuracy: 0.0561\n",
      "Validation Loss: 7.5478, Validation Accuracy: 0.0596\n",
      "Epoch 3/30\n"
     ]
    },
    {
     "name": "stderr",
     "output_type": "stream",
     "text": [
      "Training: 100%|███████████████████████████████████████████████████████████| 94/94 [01:02<00:00,  1.49batch/s, Loss=7.61, Accuracy=0.0639]\n",
      "Validation: 100%|█████████████████████████████████████████████████████████| 23/23 [00:06<00:00,  3.45batch/s, Loss=7.42, Accuracy=0.0652]\n"
     ]
    },
    {
     "name": "stdout",
     "output_type": "stream",
     "text": [
      "Train Loss: 7.6393, Train Accuracy: 0.0566\n",
      "Validation Loss: 7.5284, Validation Accuracy: 0.0597\n",
      "Epoch 4/30\n"
     ]
    },
    {
     "name": "stderr",
     "output_type": "stream",
     "text": [
      "Training: 100%|███████████████████████████████████████████████████████████| 94/94 [01:02<00:00,  1.50batch/s, Loss=7.61, Accuracy=0.0642]\n",
      "Validation: 100%|█████████████████████████████████████████████████████████| 23/23 [00:06<00:00,  3.46batch/s, Loss=7.41, Accuracy=0.0665]\n"
     ]
    },
    {
     "name": "stdout",
     "output_type": "stream",
     "text": [
      "Train Loss: 7.6230, Train Accuracy: 0.0598\n",
      "Validation Loss: 7.5297, Validation Accuracy: 0.0600\n",
      "Epoch 5/30\n"
     ]
    },
    {
     "name": "stderr",
     "output_type": "stream",
     "text": [
      "Training: 100%|███████████████████████████████████████████████████████████| 94/94 [01:03<00:00,  1.49batch/s, Loss=7.58, Accuracy=0.0585]\n",
      "Validation: 100%|██████████████████████████████████████████████████████████| 23/23 [00:07<00:00,  3.16batch/s, Loss=7.4, Accuracy=0.0691]\n"
     ]
    },
    {
     "name": "stdout",
     "output_type": "stream",
     "text": [
      "Train Loss: 7.6177, Train Accuracy: 0.0601\n",
      "Validation Loss: 7.5058, Validation Accuracy: 0.0619\n",
      "Epoch 6/30\n"
     ]
    },
    {
     "name": "stderr",
     "output_type": "stream",
     "text": [
      "Training: 100%|███████████████████████████████████████████████████████████| 94/94 [01:05<00:00,  1.45batch/s, Loss=7.57, Accuracy=0.0607]\n",
      "Validation: 100%|█████████████████████████████████████████████████████████| 23/23 [00:06<00:00,  3.34batch/s, Loss=7.39, Accuracy=0.0638]\n"
     ]
    },
    {
     "name": "stdout",
     "output_type": "stream",
     "text": [
      "Train Loss: 7.6073, Train Accuracy: 0.0618\n",
      "Validation Loss: 7.4981, Validation Accuracy: 0.0600\n",
      "Epoch 7/30\n"
     ]
    },
    {
     "name": "stderr",
     "output_type": "stream",
     "text": [
      "Training: 100%|███████████████████████████████████████████████████████████| 94/94 [01:02<00:00,  1.50batch/s, Loss=7.59, Accuracy=0.0593]\n",
      "Validation: 100%|█████████████████████████████████████████████████████████| 23/23 [00:06<00:00,  3.49batch/s, Loss=7.39, Accuracy=0.0686]\n"
     ]
    },
    {
     "name": "stdout",
     "output_type": "stream",
     "text": [
      "Train Loss: 7.5941, Train Accuracy: 0.0619\n",
      "Validation Loss: 7.4914, Validation Accuracy: 0.0613\n",
      "Epoch 8/30\n"
     ]
    },
    {
     "name": "stderr",
     "output_type": "stream",
     "text": [
      "Training: 100%|███████████████████████████████████████████████████████████| 94/94 [01:02<00:00,  1.50batch/s, Loss=7.61, Accuracy=0.0575]\n",
      "Validation: 100%|█████████████████████████████████████████████████████████| 23/23 [00:06<00:00,  3.44batch/s, Loss=7.39, Accuracy=0.0638]\n"
     ]
    },
    {
     "name": "stdout",
     "output_type": "stream",
     "text": [
      "Train Loss: 7.5946, Train Accuracy: 0.0617\n",
      "Validation Loss: 7.4875, Validation Accuracy: 0.0617\n",
      "Epoch 9/30\n"
     ]
    },
    {
     "name": "stderr",
     "output_type": "stream",
     "text": [
      "Training: 100%|███████████████████████████████████████████████████████████| 94/94 [01:02<00:00,  1.50batch/s, Loss=7.65, Accuracy=0.0613]\n",
      "Validation: 100%|██████████████████████████████████████████████████████████| 23/23 [00:06<00:00,  3.47batch/s, Loss=7.4, Accuracy=0.0678]\n"
     ]
    },
    {
     "name": "stdout",
     "output_type": "stream",
     "text": [
      "Train Loss: 7.5904, Train Accuracy: 0.0616\n",
      "Validation Loss: 7.4961, Validation Accuracy: 0.0605\n",
      "Epoch 10/30\n"
     ]
    },
    {
     "name": "stderr",
     "output_type": "stream",
     "text": [
      "Training: 100%|███████████████████████████████████████████████████████████| 94/94 [01:03<00:00,  1.49batch/s, Loss=7.56, Accuracy=0.0624]\n",
      "Validation: 100%|█████████████████████████████████████████████████████████| 23/23 [00:06<00:00,  3.47batch/s, Loss=7.39, Accuracy=0.0656]\n"
     ]
    },
    {
     "name": "stdout",
     "output_type": "stream",
     "text": [
      "Train Loss: 7.5664, Train Accuracy: 0.0627\n",
      "Validation Loss: 7.4882, Validation Accuracy: 0.0606\n",
      "Epoch 11/30\n"
     ]
    },
    {
     "name": "stderr",
     "output_type": "stream",
     "text": [
      "Training: 100%|███████████████████████████████████████████████████████████| 94/94 [01:03<00:00,  1.49batch/s, Loss=7.52, Accuracy=0.0609]\n",
      "Validation: 100%|█████████████████████████████████████████████████████████| 23/23 [00:06<00:00,  3.50batch/s, Loss=7.38, Accuracy=0.0643]\n"
     ]
    },
    {
     "name": "stdout",
     "output_type": "stream",
     "text": [
      "Train Loss: 7.5638, Train Accuracy: 0.0621\n",
      "Validation Loss: 7.4873, Validation Accuracy: 0.0610\n",
      "Epoch 12/30\n"
     ]
    },
    {
     "name": "stderr",
     "output_type": "stream",
     "text": [
      "Training: 100%|████████████████████████████████████████████████████████████| 94/94 [01:03<00:00,  1.49batch/s, Loss=7.57, Accuracy=0.067]\n",
      "Validation: 100%|█████████████████████████████████████████████████████████| 23/23 [00:06<00:00,  3.48batch/s, Loss=7.39, Accuracy=0.0638]\n"
     ]
    },
    {
     "name": "stdout",
     "output_type": "stream",
     "text": [
      "Train Loss: 7.5518, Train Accuracy: 0.0626\n",
      "Validation Loss: 7.4878, Validation Accuracy: 0.0616\n",
      "Epoch 13/30\n"
     ]
    },
    {
     "name": "stderr",
     "output_type": "stream",
     "text": [
      "Training: 100%|████████████████████████████████████████████████████████████| 94/94 [01:03<00:00,  1.49batch/s, Loss=7.52, Accuracy=0.064]\n",
      "Validation: 100%|█████████████████████████████████████████████████████████| 23/23 [00:06<00:00,  3.51batch/s, Loss=7.37, Accuracy=0.0647]\n"
     ]
    },
    {
     "name": "stdout",
     "output_type": "stream",
     "text": [
      "Train Loss: 7.5540, Train Accuracy: 0.0621\n",
      "Validation Loss: 7.4854, Validation Accuracy: 0.0614\n",
      "Epoch 14/30\n"
     ]
    },
    {
     "name": "stderr",
     "output_type": "stream",
     "text": [
      "Training: 100%|███████████████████████████████████████████████████████████| 94/94 [01:03<00:00,  1.48batch/s, Loss=7.51, Accuracy=0.0673]\n",
      "Validation: 100%|██████████████████████████████████████████████████████████| 23/23 [00:06<00:00,  3.49batch/s, Loss=7.37, Accuracy=0.066]\n"
     ]
    },
    {
     "name": "stdout",
     "output_type": "stream",
     "text": [
      "Train Loss: 7.5383, Train Accuracy: 0.0621\n",
      "Validation Loss: 7.4793, Validation Accuracy: 0.0604\n",
      "Epoch 15/30\n"
     ]
    },
    {
     "name": "stderr",
     "output_type": "stream",
     "text": [
      "Training: 100%|████████████████████████████████████████████████████████████| 94/94 [01:03<00:00,  1.49batch/s, Loss=7.55, Accuracy=0.063]\n",
      "Validation: 100%|█| 23/23 [00:06<00:00,  3.51batch/s, Loss=7.39, Acc\n"
     ]
    },
    {
     "name": "stdout",
     "output_type": "stream",
     "text": [
      "Train Loss: 7.5457, Train Accuracy: 0.0624\n",
      "Validation Loss: 7.4816, Validation Accuracy: 0.0604\n",
      "Epoch 16/30\n"
     ]
    },
    {
     "name": "stderr",
     "output_type": "stream",
     "text": [
      "Training: 100%|█| 94/94 [01:03<00:00,  1.49batch/s, Loss=7.51, Accur\n",
      "Validation: 100%|█████████████████████████████████████████████████████████| 23/23 [00:06<00:00,  3.32batch/s, Loss=7.38, Accuracy=0.0673]\n"
     ]
    },
    {
     "name": "stdout",
     "output_type": "stream",
     "text": [
      "Train Loss: 7.5372, Train Accuracy: 0.0614\n",
      "Validation Loss: 7.4826, Validation Accuracy: 0.0608\n",
      "Epoch 17/30\n"
     ]
    },
    {
     "name": "stderr",
     "output_type": "stream",
     "text": [
      "Training:  11%|██████▎                                                    | 10/94 [00:08<00:57,  1.46batch/s, Loss=7.52, Accuracy=0.0685]"
     ]
    }
   ],
   "source": [
    "train(model, train_dataset, val_loader, optimizer, criterion)"
   ]
  },
  {
   "cell_type": "code",
   "execution_count": null,
   "id": "480fb4f4-ca25-4555-893e-6cb2a14e2a4c",
   "metadata": {},
   "outputs": [],
   "source": []
  }
 ],
 "metadata": {
  "kernelspec": {
   "display_name": "Python 3 (ipykernel)",
   "language": "python",
   "name": "python3"
  },
  "language_info": {
   "codemirror_mode": {
    "name": "ipython",
    "version": 3
   },
   "file_extension": ".py",
   "mimetype": "text/x-python",
   "name": "python",
   "nbconvert_exporter": "python",
   "pygments_lexer": "ipython3",
   "version": "3.12.7"
  }
 },
 "nbformat": 4,
 "nbformat_minor": 5
}
